{
  "nbformat": 4,
  "nbformat_minor": 0,
  "metadata": {
    "colab": {
      "provenance": [],
      "authorship_tag": "ABX9TyMolrI5Gy3+bS9onud4tScA",
      "include_colab_link": true
    },
    "kernelspec": {
      "name": "python3",
      "display_name": "Python 3"
    },
    "language_info": {
      "name": "python"
    }
  },
  "cells": [
    {
      "cell_type": "markdown",
      "metadata": {
        "id": "view-in-github",
        "colab_type": "text"
      },
      "source": [
        "<a href=\"https://colab.research.google.com/github/pramuditha101/ML-Coursework/blob/main/Final.ipynb\" target=\"_parent\"><img src=\"https://colab.research.google.com/assets/colab-badge.svg\" alt=\"Open In Colab\"/></a>"
      ]
    },
    {
      "cell_type": "code",
      "execution_count": null,
      "metadata": {
        "id": "DrJeAdTCHhZH"
      },
      "outputs": [],
      "source": [
        "pip install ucimlrepo\n",
        "\n",
        "from ucimlrepo import fetch_ucirepo\n",
        "import pandas as pd\n",
        "import seaborn as sns\n",
        "import matplotlib.pyplot as plt\n",
        "from imblearn.over_sampling import SMOTE\n",
        "from sklearn.datasets import fetch_openml\n",
        "from sklearn.model_selection import train_test_split\n",
        "\n",
        "# fetch dataset\n",
        "adult = fetch_ucirepo(id=2)\n",
        "\n",
        "# data (as pandas dataframes)\n",
        "X = adult.data.features\n",
        "y = adult.data.targets\n",
        "\n",
        "# metadata\n",
        "print(adult.metadata)\n",
        "\n",
        "# variable information\n",
        "print(adult.variables)\n",
        "\n",
        "data = pd.DataFrame(adult.data.features)\n",
        "data['income'] = adult.data.targets\n",
        "#target = adult.data.targets"
      ]
    },
    {
      "cell_type": "markdown",
      "source": [
        "**Removing rows with 3 null/ missing values**"
      ],
      "metadata": {
        "id": "8ki7kYHJImSR"
      }
    },
    {
      "cell_type": "code",
      "source": [
        "# Count missing values in each row\n",
        "missing_values_per_row = data.isnull().sum(axis=1)\n",
        "\n",
        "# Count rows with more than 3 missing value\n",
        "rows_with_multiple_missing_values = (missing_values_per_row == 3).sum()\n",
        "\n",
        "print(\"Number of rows with three missing values :\", rows_with_multiple_missing_values)"
      ],
      "metadata": {
        "id": "IMouWV20ILNY"
      },
      "execution_count": null,
      "outputs": []
    },
    {
      "cell_type": "code",
      "source": [
        "null_counts = data.isnull().sum(axis=1)\n",
        "\n",
        "# Filter out rows with three null values\n",
        "data = data[null_counts < 3]\n",
        "\n",
        "\n",
        "missing_values_per_row = data.isnull().sum(axis=1)\n",
        "\n",
        "# Count rows with more than 3 missing value\n",
        "rows_with_multiple_missing_values = (missing_values_per_row == 3).sum()\n",
        "\n",
        "print(\"Number of rows with more than one missing value:\", rows_with_multiple_missing_values)"
      ],
      "metadata": {
        "id": "VWwQqPPbIeq_"
      },
      "execution_count": null,
      "outputs": []
    },
    {
      "cell_type": "markdown",
      "source": [
        "**Checking the rest of the null values**"
      ],
      "metadata": {
        "id": "7KA8MdV5IvGF"
      }
    },
    {
      "cell_type": "code",
      "source": [
        "data.isnull().sum()"
      ],
      "metadata": {
        "id": "mW2SSv5sIq7C"
      },
      "execution_count": null,
      "outputs": []
    },
    {
      "cell_type": "markdown",
      "source": [
        "**Checking the value count in 'workclass' column and replacing the null values with the mode**"
      ],
      "metadata": {
        "id": "598Z6XqFI-x-"
      }
    },
    {
      "cell_type": "code",
      "source": [
        "workclass_counts = data['workclass'].value_counts()\n",
        "\n",
        "print(\"Number of times each value has been used for the 'workclass' category:\")\n",
        "print(workclass_counts)"
      ],
      "metadata": {
        "id": "YKqLgOfmI-HQ"
      },
      "execution_count": null,
      "outputs": []
    },
    {
      "cell_type": "code",
      "source": [
        "# Replace null values in 'workclass' with 'Private'\n",
        "data['workclass'].fillna('Private', inplace=True)\n",
        "\n",
        "# Replace question marks in 'workclass' with 'Private'\n",
        "data['workclass'].replace('?', 'Private', inplace=True)\n",
        "\n",
        "workclass_counts = data['workclass'].value_counts()\n",
        "\n",
        "print(\"Number of times each value has been used for the 'workclass' category:\")\n",
        "print(workclass_counts)"
      ],
      "metadata": {
        "id": "l665jQjvKx5u"
      },
      "execution_count": null,
      "outputs": []
    },
    {
      "cell_type": "markdown",
      "source": [
        "**Checking the value count in 'occupation' column**"
      ],
      "metadata": {
        "id": "idSwWZyfJdkK"
      }
    },
    {
      "cell_type": "code",
      "source": [
        "occupation_counts = data['occupation'].value_counts()\n",
        "\n",
        "print(\"Number of times each value has been used for the 'occupation' category:\")\n",
        "print(occupation_counts)"
      ],
      "metadata": {
        "id": "wBhjI6i-JdAW"
      },
      "execution_count": null,
      "outputs": []
    },
    {
      "cell_type": "code",
      "source": [],
      "metadata": {
        "id": "nMxazShFKhe5"
      },
      "execution_count": null,
      "outputs": []
    },
    {
      "cell_type": "markdown",
      "source": [
        "**Checking the value count in 'native-country' column and replacing the null values with the mode**"
      ],
      "metadata": {
        "id": "gtR5ZYX_K1c4"
      }
    },
    {
      "cell_type": "code",
      "source": [
        "native_country_counts = data['native-country'].value_counts()\n",
        "\n",
        "print(\"Number of times each value has been used for the 'native-country' category:\")\n",
        "print(native_country_counts)"
      ],
      "metadata": {
        "id": "s2g448DRKhu6"
      },
      "execution_count": null,
      "outputs": []
    },
    {
      "cell_type": "code",
      "source": [
        "# Replace null values in 'native-country' with 'Private'\n",
        "data['native-country'].fillna('United-States', inplace=True)\n",
        "\n",
        "# Replace question marks in 'workclass' with 'Private'\n",
        "data['native-country'].replace('?', 'Private', inplace=True)\n",
        "\n",
        "native_country_counts = data['native-country'].value_counts()\n",
        "\n",
        "print(\"Number of times each value has been used for the 'native-country' category:\")\n",
        "print(native_country_counts)"
      ],
      "metadata": {
        "id": "ikV0kZa2Kh9E"
      },
      "execution_count": null,
      "outputs": []
    },
    {
      "cell_type": "code",
      "source": [
        "data.isnull().sum()"
      ],
      "metadata": {
        "id": "yvEHlpxwKiNC"
      },
      "execution_count": null,
      "outputs": []
    },
    {
      "cell_type": "markdown",
      "source": [
        "**Checking the value counts in 'income' column**"
      ],
      "metadata": {
        "id": "ohgKKTXaODRT"
      }
    },
    {
      "cell_type": "code",
      "source": [
        "income_counts = data['income'].value_counts()\n",
        "\n",
        "print(\"Number of times each value has been used for the 'income' category:\")\n",
        "print(income_counts)"
      ],
      "metadata": {
        "id": "RFlfcCJnLDlH"
      },
      "execution_count": null,
      "outputs": []
    },
    {
      "cell_type": "code",
      "source": [
        "# Replace question marks in 'income' with 'Private'\n",
        "data['income'].replace('<=50K.', '<=50K', inplace=True)\n",
        "\n",
        "# Replace question marks in 'income' with 'Private'\n",
        "data['income'].replace('>50K.', '>50K', inplace=True)\n",
        "\n",
        "\n",
        "income_counts = data['income'].value_counts()\n",
        "\n",
        "print(\"Number of times each value has been used for the 'income' category:\")\n",
        "print(income_counts)"
      ],
      "metadata": {
        "id": "oAsQHYVKLEOt"
      },
      "execution_count": null,
      "outputs": []
    },
    {
      "cell_type": "markdown",
      "source": [
        "**Plotting a heat-map to visualize other columns with target('income')**"
      ],
      "metadata": {
        "id": "8HdKeAOROID8"
      }
    },
    {
      "cell_type": "code",
      "source": [
        "# Convert income column to numeric\n",
        "data['income'] = data['income'].astype('category').cat.codes\n",
        "\n",
        "# Calculate Pearson correlation coefficients\n",
        "correlation_matrix = data.corr()\n",
        "\n",
        "# Plot heatmap\n",
        "plt.figure(figsize=(7, 7))\n",
        "sns.heatmap(correlation_matrix, annot=True, cmap='inferno')\n",
        "plt.title('Correlation Heatmap with Income')\n",
        "plt.show()"
      ],
      "metadata": {
        "id": "xhRARBs6LEI0"
      },
      "execution_count": null,
      "outputs": []
    },
    {
      "cell_type": "markdown",
      "source": [
        "**Displaying the correlation with the target**"
      ],
      "metadata": {
        "id": "pJbK2o5bOt_D"
      }
    },
    {
      "cell_type": "code",
      "source": [
        "# Select numerical columns\n",
        "numerical_columns = data.select_dtypes(include=['int64', 'float64']).columns\n",
        "\n",
        "# Calculate Pearson correlation coefficients with income\n",
        "correlation_with_income = data[numerical_columns].corrwith(data['income'].astype('category').cat.codes)\n",
        "\n",
        "# Print correlation coefficients\n",
        "print(\"Correlation with income:\")\n",
        "print(correlation_with_income)"
      ],
      "metadata": {
        "id": "KcT4k_bQLEBu"
      },
      "execution_count": null,
      "outputs": []
    },
    {
      "cell_type": "markdown",
      "source": [
        "**Dropping the 'fnlwgt' column**"
      ],
      "metadata": {
        "id": "vJMGJ86BOxV_"
      }
    },
    {
      "cell_type": "code",
      "source": [
        "# Drop the 'fnlwgt' column\n",
        "data.drop(columns=['fnlwgt'], inplace=True)\n",
        "data"
      ],
      "metadata": {
        "id": "RS-jjUB1LD37"
      },
      "execution_count": null,
      "outputs": []
    },
    {
      "cell_type": "markdown",
      "source": [
        "## **One Hot Encoding**"
      ],
      "metadata": {
        "id": "07f106HcO4vh"
      }
    },
    {
      "cell_type": "code",
      "source": [
        "# Perform one-hot encoding on categorical variables\n",
        "categorical_columns = data.select_dtypes(include=['object']).columns.tolist()\n",
        "data = pd.get_dummies(data, columns=categorical_columns, drop_first=True)\n",
        "data"
      ],
      "metadata": {
        "id": "9rohq1xqO6wx"
      },
      "execution_count": null,
      "outputs": []
    },
    {
      "cell_type": "markdown",
      "source": [
        "### **Over-sampling since the dataset is not balanced**"
      ],
      "metadata": {
        "id": "x63iqoNkQ_MW"
      }
    },
    {
      "cell_type": "code",
      "source": [
        "data[\"income\"].value_counts()"
      ],
      "metadata": {
        "id": "H-Pi59qIRJ3L"
      },
      "execution_count": null,
      "outputs": []
    },
    {
      "cell_type": "code",
      "source": [
        "# Separate features and target variable\n",
        "X = data.drop(columns=['income'])\n",
        "y = data['income']\n",
        "\n",
        "# Apply SMOTE to balance the dataset\n",
        "smote = SMOTE(random_state=42)\n",
        "X_resampled, y_resampled = smote.fit_resample(X, y)\n",
        "\n",
        "# Combine resampled data into a DataFrame\n",
        "data = pd.concat([pd.DataFrame(X_resampled), pd.DataFrame(y_resampled, columns=['income'])], axis=1)\n",
        "\n",
        "# Shuffle the dataset\n",
        "data = data.sample(frac=1, random_state=42).reset_index(drop=True)\n",
        "\n",
        "data[\"income\"].value_counts()"
      ],
      "metadata": {
        "id": "YnQHymadROii"
      },
      "execution_count": null,
      "outputs": []
    },
    {
      "cell_type": "markdown",
      "source": [
        "### **Splitting the dataset for training**"
      ],
      "metadata": {
        "id": "daVCTn1LRcip"
      }
    },
    {
      "cell_type": "code",
      "source": [
        "x = data.drop('income', axis=1)  # Assuming the target variable is named 'income'\n",
        "y = data['income']\n",
        "\n",
        "from sklearn.model_selection import train_test_split\n",
        "x_train, x_test, y_train, y_test = train_test_split(x, y, random_state=99)"
      ],
      "metadata": {
        "id": "TZzAV4QgRbg1"
      },
      "execution_count": null,
      "outputs": []
    }
  ]
}